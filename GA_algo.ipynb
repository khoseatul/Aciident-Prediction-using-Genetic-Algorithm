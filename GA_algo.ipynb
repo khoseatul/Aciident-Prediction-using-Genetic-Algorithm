{
 "cells": [
  {
   "cell_type": "code",
   "execution_count": 18,
   "id": "51b92b47-bb7f-4a76-9096-f0ec670b9b0c",
   "metadata": {},
   "outputs": [],
   "source": [
    "import numpy as np\n",
    "import pandas as pd\n",
    "import matplotlib.pyplot as plt\n",
    "import pygad\n",
    "import seaborn as sns\n",
    "\n"
   ]
  },
  {
   "cell_type": "code",
   "execution_count": 21,
   "id": "b7639a7c-98a7-4c86-9672-b6584bf52076",
   "metadata": {},
   "outputs": [
    {
     "data": {
      "text/plain": [
       "Index(['Date', 'Number_of_Vehicles', 'Vehicle_Speed', 'Light_Conditions',\n",
       "       'Weather_Conditions', 'Road_Surface_Conditions', 'Chainage(km)',\n",
       "       'Accident_Severity', 'No_of_accidents'],\n",
       "      dtype='object')"
      ]
     },
     "execution_count": 21,
     "metadata": {},
     "output_type": "execute_result"
    }
   ],
   "source": [
    "path=r\"data.csv\"\n",
    "data=pd.read_csv(path)\n",
    "data.head(5)\n",
    "\n",
    "data.keys()\n"
   ]
  },
  {
   "cell_type": "code",
   "execution_count": 7,
   "id": "700f866d-355d-465f-8d19-1ac6148e21bb",
   "metadata": {},
   "outputs": [
    {
     "data": {
      "text/plain": [
       "array([[2],\n",
       "       [1],\n",
       "       [1],\n",
       "       ...,\n",
       "       [1],\n",
       "       [1],\n",
       "       [1]], dtype=int64)"
      ]
     },
     "execution_count": 7,
     "metadata": {},
     "output_type": "execute_result"
    }
   ],
   "source": [
    "#select ouput and input\n",
    "x=data.iloc[:,1:7].values\n",
    "y=data.iloc[:,8:].values\n",
    "y"
   ]
  },
  {
   "cell_type": "code",
   "execution_count": 9,
   "id": "46c3efcd-16c6-4736-b63d-6f20a4d9616a",
   "metadata": {},
   "outputs": [
    {
     "name": "stdout",
     "output_type": "stream",
     "text": [
      "Generation = 1\n",
      "Fitness    = 0.28231410708708415\n",
      "Generation = 2\n",
      "Fitness    = 0.28231410708708415\n",
      "Generation = 3\n",
      "Fitness    = 0.32574019064884824\n",
      "Generation = 4\n",
      "Fitness    = 0.32574019064884824\n",
      "Generation = 5\n",
      "Fitness    = 0.32574019064884824\n",
      "Generation = 6\n",
      "Fitness    = 0.32574019064884824\n",
      "Generation = 7\n",
      "Fitness    = 0.32574019064884824\n",
      "Generation = 8\n",
      "Fitness    = 0.34240107849654683\n",
      "Generation = 9\n",
      "Fitness    = 0.34240107849654683\n",
      "Generation = 10\n",
      "Fitness    = 0.3483723358082703\n",
      "Generation = 11\n",
      "Fitness    = 0.3483723358082703\n",
      "Generation = 12\n",
      "Fitness    = 0.3483723358082703\n",
      "Generation = 13\n",
      "Fitness    = 0.3483723358082703\n",
      "Generation = 14\n",
      "Fitness    = 0.3483723358082703\n",
      "Generation = 15\n",
      "Fitness    = 0.3483723358082703\n",
      "Generation = 16\n",
      "Fitness    = 0.3483723358082703\n",
      "Generation = 17\n",
      "Fitness    = 0.3483723358082703\n",
      "Generation = 18\n",
      "Fitness    = 0.4001758187496557\n",
      "Generation = 19\n",
      "Fitness    = 0.4001758187496557\n",
      "Generation = 20\n",
      "Fitness    = 0.4143080591422549\n",
      "Generation = 21\n",
      "Fitness    = 0.4143080591422549\n",
      "Generation = 22\n",
      "Fitness    = 0.4143080591422549\n",
      "Generation = 23\n",
      "Fitness    = 0.42894420918286996\n",
      "Generation = 24\n",
      "Fitness    = 0.5145940741335179\n",
      "Generation = 25\n",
      "Fitness    = 0.5145940741335179\n",
      "Generation = 26\n",
      "Fitness    = 0.5145940741335179\n",
      "Generation = 27\n",
      "Fitness    = 0.5145940741335179\n",
      "Generation = 28\n",
      "Fitness    = 0.5145940741335179\n",
      "Generation = 29\n",
      "Fitness    = 0.5145940741335179\n",
      "Generation = 30\n",
      "Fitness    = 0.5145940741335179\n",
      "Generation = 31\n",
      "Fitness    = 0.5145940741335179\n",
      "Generation = 32\n",
      "Fitness    = 0.5145940741335179\n",
      "Generation = 33\n",
      "Fitness    = 0.5145940741335179\n",
      "Generation = 34\n",
      "Fitness    = 0.5145940741335179\n",
      "Generation = 35\n",
      "Fitness    = 0.5145940741335179\n",
      "Generation = 36\n",
      "Fitness    = 0.5145940741335179\n",
      "Generation = 37\n",
      "Fitness    = 0.5145940741335179\n",
      "Generation = 38\n",
      "Fitness    = 0.5145940741335179\n",
      "Generation = 39\n",
      "Fitness    = 0.5145940741335179\n",
      "Generation = 40\n",
      "Fitness    = 0.5145940741335179\n",
      "Generation = 41\n",
      "Fitness    = 0.5145940741335179\n",
      "Generation = 42\n",
      "Fitness    = 0.5145940741335179\n",
      "Generation = 43\n",
      "Fitness    = 0.5145940741335179\n",
      "Generation = 44\n",
      "Fitness    = 0.5145940741335179\n",
      "Generation = 45\n",
      "Fitness    = 0.5145940741335179\n",
      "Generation = 46\n",
      "Fitness    = 0.5145940741335179\n",
      "Generation = 47\n",
      "Fitness    = 0.5145940741335179\n",
      "Generation = 48\n",
      "Fitness    = 0.5145940741335179\n",
      "Generation = 49\n",
      "Fitness    = 0.5145940741335179\n",
      "Generation = 50\n",
      "Fitness    = 0.5145940741335179\n",
      "Generation = 51\n",
      "Fitness    = 0.5145940741335179\n",
      "Generation = 52\n",
      "Fitness    = 0.5145940741335179\n",
      "Generation = 53\n",
      "Fitness    = 0.5145940741335179\n",
      "Generation = 54\n",
      "Fitness    = 0.5145940741335179\n",
      "Generation = 55\n",
      "Fitness    = 0.5145940741335179\n",
      "Generation = 56\n",
      "Fitness    = 0.5145940741335179\n",
      "Generation = 57\n",
      "Fitness    = 0.5280944026679948\n",
      "Generation = 58\n",
      "Fitness    = 0.5280944026679948\n",
      "Generation = 59\n",
      "Fitness    = 0.5280944026679948\n",
      "Generation = 60\n",
      "Fitness    = 0.5280944026679948\n",
      "Generation = 61\n",
      "Fitness    = 0.5320214611702461\n",
      "Generation = 62\n",
      "Fitness    = 0.5320214611702461\n",
      "Generation = 63\n",
      "Fitness    = 0.5320214611702461\n",
      "Generation = 64\n",
      "Fitness    = 0.5320214611702461\n",
      "Generation = 65\n",
      "Fitness    = 0.5320214611702461\n",
      "Generation = 66\n",
      "Fitness    = 0.5320214611702461\n",
      "Generation = 67\n",
      "Fitness    = 0.5320214611702461\n",
      "Generation = 68\n",
      "Fitness    = 0.5320214611702461\n",
      "Generation = 69\n",
      "Fitness    = 0.5366608815162337\n",
      "Generation = 70\n",
      "Fitness    = 0.5366608815162337\n",
      "Generation = 71\n",
      "Fitness    = 0.5366608815162337\n",
      "Generation = 72\n",
      "Fitness    = 0.5366608815162337\n",
      "Generation = 73\n",
      "Fitness    = 0.5366608815162337\n",
      "Generation = 74\n",
      "Fitness    = 0.5366608815162337\n",
      "Generation = 75\n",
      "Fitness    = 0.5366608815162337\n",
      "Generation = 76\n",
      "Fitness    = 0.5366608815162337\n",
      "Generation = 77\n",
      "Fitness    = 0.5366608815162337\n",
      "Generation = 78\n",
      "Fitness    = 0.5366608815162337\n",
      "Generation = 79\n",
      "Fitness    = 0.5366608815162337\n",
      "Generation = 80\n",
      "Fitness    = 0.5366608815162337\n",
      "Generation = 81\n",
      "Fitness    = 0.5366608815162337\n",
      "Generation = 82\n",
      "Fitness    = 0.5366608815162337\n",
      "Generation = 83\n",
      "Fitness    = 0.5366608815162337\n",
      "Generation = 84\n",
      "Fitness    = 0.5366608815162337\n",
      "Generation = 85\n",
      "Fitness    = 0.5366608815162337\n",
      "Generation = 86\n",
      "Fitness    = 0.5382309368767799\n",
      "Generation = 87\n",
      "Fitness    = 0.5382309368767799\n",
      "Generation = 88\n",
      "Fitness    = 0.5382309368767799\n",
      "Generation = 89\n",
      "Fitness    = 0.5382309368767799\n",
      "Generation = 90\n",
      "Fitness    = 0.5413042340753106\n",
      "Generation = 91\n",
      "Fitness    = 0.5413042340753106\n",
      "Generation = 92\n",
      "Fitness    = 0.5413511135864492\n",
      "Generation = 93\n",
      "Fitness    = 0.5413511135864492\n",
      "Generation = 94\n",
      "Fitness    = 0.5413511135864492\n",
      "Generation = 95\n",
      "Fitness    = 0.5413511135864492\n",
      "Generation = 96\n",
      "Fitness    = 0.5413511135864492\n",
      "Generation = 97\n",
      "Fitness    = 0.5504941326763498\n",
      "Generation = 98\n",
      "Fitness    = 0.5504941326763498\n",
      "Generation = 99\n",
      "Fitness    = 0.5504941326763498\n",
      "Generation = 100\n",
      "Fitness    = 0.5504941326763498\n"
     ]
    }
   ],
   "source": [
    "import tensorflow.keras\n",
    "import pygad.kerasga\n",
    "import numpy\n",
    "import pygad\n",
    "\n",
    "def fitness_func(solution, sol_idx):\n",
    "    global data_inputs, data_outputs, keras_ga, model\n",
    "\n",
    "    model_weights_matrix = pygad.kerasga.model_weights_as_matrix(model=model,\n",
    "                                                                 weights_vector=solution)\n",
    "\n",
    "    model.set_weights(weights=model_weights_matrix)\n",
    "\n",
    "    predictions = model.predict(data_inputs)\n",
    "\n",
    "    mae = tensorflow.keras.losses.MeanAbsoluteError()\n",
    "    abs_error = mae(data_outputs, predictions).numpy() + 0.00000001\n",
    "    solution_fitness = 1.0 / abs_error\n",
    "\n",
    "    return solution_fitness\n",
    "\n",
    "def callback_generation(ga_instance):\n",
    "    print(\"Generation = {generation}\".format(generation=ga_instance.generations_completed))\n",
    "    print(\"Fitness    = {fitness}\".format(fitness=ga_instance.best_solution()[1]))\n",
    "\n",
    "input_layer  = tensorflow.keras.layers.Input(6)\n",
    "dense_layer1 = tensorflow.keras.layers.Dense(5, activation=\"relu\")(input_layer)\n",
    "output_layer = tensorflow.keras.layers.Dense(1, activation=\"linear\")(dense_layer1)\n",
    "\n",
    "model = tensorflow.keras.Model(inputs=input_layer, outputs=output_layer)\n",
    "\n",
    "weights_vector = pygad.kerasga.model_weights_as_vector(model=model)\n",
    "\n",
    "keras_ga = pygad.kerasga.KerasGA(model=model,\n",
    "                                 num_solutions=10)\n",
    "\n",
    "# Data inputs\n",
    "data_inputs =x\n",
    "\n",
    "# Data outputs\n",
    "data_outputs = y\n",
    "\n",
    "num_generations = 100\n",
    "num_parents_mating = 6\n",
    "initial_population = keras_ga.population_weights\n",
    "\n",
    "ga_instance = pygad.GA(num_generations=num_generations, \n",
    "                       num_parents_mating=num_parents_mating, \n",
    "                       initial_population=initial_population,\n",
    "                       fitness_func=fitness_func,\n",
    "                       on_generation=callback_generation)\n",
    "ga_instance.run()\n",
    "\n",
    "\n",
    "\n"
   ]
  },
  {
   "cell_type": "code",
   "execution_count": 10,
   "id": "99f3a0e9-143e-44d7-b2e3-156793a1d1cd",
   "metadata": {},
   "outputs": [
    {
     "name": "stderr",
     "output_type": "stream",
     "text": [
      "C:\\ProgramData\\Anaconda3\\lib\\site-packages\\pygad\\pygad.py:3142: UserWarning: Please use the plot_fitness() method instead of plot_result(). The plot_result() method will be removed in the future.\n",
      "  warnings.warn(\"Please use the plot_fitness() method instead of plot_result(). The plot_result() method will be removed in the future.\")\n"
     ]
    },
    {
     "data": {
      "image/png": "[encoded data removed]",
      "text/plain": [
       "<Figure size 432x288 with 1 Axes>"
      ]
     },
     "metadata": {
      "needs_background": "light"
     },
     "output_type": "display_data"
    },
    {
     "data": {
      "image/png": "[encoded data removed]",
      "text/plain": [
       "<Figure size 432x288 with 1 Axes>"
      ]
     },
     "execution_count": 10,
     "metadata": {},
     "output_type": "execute_result"
    }
   ],
   "source": [
    "# After the generations complete, some plots are showed that summarize how the outputs/fitness values evolve over generations.\n",
    "ga_instance.plot_result(title=\"PyGAD & Keras - Iteration vs. Fitness\", linewidth=4,color='red',)\n"
   ]
  },
  {
   "cell_type": "code",
   "execution_count": 16,
   "id": "321f4451-b90d-4cfd-a275-773064bce789",
   "metadata": {},
   "outputs": [
    {
     "name": "stdout",
     "output_type": "stream",
     "text": [
      "Fitness value of the best solution = 0.5504941326763498\n",
      "Index of the best solution : 0\n",
      "Predicted value:----- 2\n",
      "Actual_value:-------- [[2]]\n"
     ]
    }
   ],
   "source": [
    "# Returning the details of the best solution.\n",
    "solution, solution_fitness, solution_idx = ga_instance.best_solution()\n",
    "print(\"Fitness value of the best solution = {solution_fitness}\".format(solution_fitness=solution_fitness))\n",
    "print(\"Index of the best solution : {solution_idx}\".format(solution_idx=solution_idx))\n",
    "\n",
    "# Fetch the parameters of the best solution.\n",
    "best_solution_weights = pygad.kerasga.model_weights_as_matrix(model=model,\n",
    "                                                              weights_vector=solution)\n",
    "model.set_weights(best_solution_weights)\n",
    "predictions = model.predict(data_inputs[[15]])\n",
    "import math\n",
    "pread=math.ceil(predictions)\n",
    "print(\"Predicted value:-----\", pread)\n",
    "print(\"Actual_value:--------\",data_outputs[[15]])"
   ]
  },
  {
   "cell_type": "code",
   "execution_count": 17,
   "id": "6336aa00-dada-44a5-9437-58c92a159c85",
   "metadata": {},
   "outputs": [
    {
     "name": "stdout",
     "output_type": "stream",
     "text": [
      "WARNING:tensorflow:Compiled the loaded model, but the compiled metrics have yet to be built. `model.compile_metrics` will be empty until you train or evaluate the model.\n"
     ]
    }
   ],
   "source": [
    "model.save(\"Genetic_model.h5\")"
   ]
  }
 ],
 "metadata": {
  "kernelspec": {
   "display_name": "Python 3 (ipykernel)",
   "language": "python",
   "name": "python3"
  },
  "language_info": {
   "codemirror_mode": {
    "name": "ipython",
    "version": 3
   },
   "file_extension": ".py",
   "mimetype": "text/x-python",
   "name": "python",
   "nbconvert_exporter": "python",
   "pygments_lexer": "ipython3",
   "version": "3.9.7"
  }
 },
 "nbformat": 4,
 "nbformat_minor": 5
}
